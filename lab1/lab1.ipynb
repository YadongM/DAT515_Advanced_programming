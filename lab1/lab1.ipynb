{
 "cells": [
  {
   "cell_type": "code",
   "execution_count": 125,
   "metadata": {},
   "outputs": [],
   "source": [
    "# -*- coding:utf-8 -*-\n",
    "\n",
    "import json\n",
    "import math\n",
    "\n",
    "\n",
    "def build_tram_stops(jsonobject):\n",
    "    with open(jsonobject, 'r', encoding='utf-8') as f:\n",
    "        temp = json.loads(f.read())\n",
    "        stop_key = list(temp.keys())\n",
    "\n",
    "        info_stop = dict()\n",
    "        for i in stop_key:\n",
    "            info_stop[i] = dict()\n",
    "            info_stop[i]['lat'] = float(temp[i]['position'][0])\n",
    "            info_stop[i]['lon'] = float(temp[i]['position'][1])\n",
    "    return info_stop\n",
    "\n",
    "\n",
    "\n",
    "def build_tram_lines(lines_path):\n",
    "    with open(lines_path, \"r\", encoding='utf-8') as f:\n",
    "        tram_number = []\n",
    "        tram_stop = []\n",
    "        tram_time = []\n",
    "        for i in f:\n",
    "            if len(i)==3 or len(i) ==4:\n",
    "                tram_number.append(i[:-2])\n",
    "                tmp = []\n",
    "                tram_stop.append(tmp)\n",
    "\n",
    "                time_tmp = []\n",
    "                tram_time.append(time_tmp)\n",
    "\n",
    "            if len(i)>6:\n",
    "                tmp.append(i[:-6].rstrip())\n",
    "                \n",
    "                time_tmp.append(    list(map(int, (i[-6:].replace(\"\\n\", \"\")).split(':')))      )\n",
    "\n",
    "        \n",
    "    tram_lines = dict(zip(tram_number, tram_stop))\n",
    "    tram_time = dict(zip(tram_number, tram_time))\n",
    "\n",
    "    # The second part\n",
    "    info_stop = build_tram_stops(jsonobject)\n",
    "\n",
    "    all_stop = list( set( [j for i in tram_lines.keys() for j in tram_lines[i]] ) )\n",
    "    all_stop = dict(zip(all_stop, [i for i in range(len(all_stop))]))\n",
    "    stop_time = dict()\n",
    "\n",
    "    for _stop in all_stop:\n",
    "        stop_time[_stop] = {}\n",
    "\n",
    "    for i in tram_lines.keys():\n",
    "        for j in range(len(tram_lines[i])):\n",
    "            if j <= (len(tram_lines[i])-2):\n",
    "                tmp = dict()\n",
    "                tmp[tram_lines[i][j+1]] = (tram_time[i][j+1][0] - tram_time[i][j][0])*60 + (tram_time[i][j+1][1] - tram_time[i][j][1])\n",
    "                stop_time[tram_lines[i][j]].update(tmp)\n",
    "            \n",
    "            if j <= (len(tram_lines[i])-2):\n",
    "                j = j+1\n",
    "                tmp = dict()\n",
    "                tmp[tram_lines[i][-j-1]] = (tram_time[i][-j][0] - tram_time[i][-j-1][0])*60 + (tram_time[i][-j][1] - tram_time[i][-j-1][1])\n",
    "                stop_time[tram_lines[i][-j]].update(tmp)\n",
    "    \n",
    "    return tram_lines,stop_time\n",
    "\n",
    "def build_tram_network(jsonobject, lines_path):\n",
    "    info_stop = build_tram_stops(jsonobject)\n",
    "    tram_lines,stop_time  = build_tram_lines(lines_path)\n",
    "    tramnetwork = {'stops':info_stop, 'lines':tram_lines, 'times':stop_time}\n",
    "    with open('../data/tramnetwork.json', 'w') as f:\n",
    "        json.dump(tramnetwork, f)\n",
    "    return tramnetwork"
   ]
  },
  {
   "cell_type": "code",
   "execution_count": 126,
   "metadata": {},
   "outputs": [],
   "source": [
    "def lines_via_stop(tramnetwork, stop):\n",
    "    for line in tramnetwork['lines'].keys():\n",
    "        if stop in tramnetwork['lines'][line]:\n",
    "            print('Line {} go via the {}'.format(line, stop))\n",
    "\n",
    "\n",
    "def lines_between_stops(tramnetwork, stop1, stop2):\n",
    "    for line in tramnetwork['lines'].keys():\n",
    "        if (stop1 in tramnetwork['lines'][line]) and (stop2 in tramnetwork['lines'][line]):\n",
    "            if tramnetwork['lines'][line].index(stop1) <= tramnetwork['lines'][line].index(stop2):\n",
    "                print('Line {} can go from {} to {}, given direction'.format(line, stop1, stop2))\n",
    "            else: \n",
    "                print('Line {} can go from {} to {}, opposite direction'.format(line, stop1, stop2))\n",
    "\n",
    "\n",
    "\n",
    "def time_between_stops(tramnetwork, line, stop1, stop2):\n",
    "    if line not in list(tramnetwork['lines'].keys()):\n",
    "        print(\"There is not line {}. Please check your enter.\".format(line))\n",
    "\n",
    "    if stop1 not in tramnetwork['lines'][line] or stop2 not in tramnetwork['lines'][line]:\n",
    "        print(\"You can't go from {0} to {1} or from {1} to {0} by line{2}.\".format(stop1, stop2, line))\n",
    "    \n",
    "    stop1_index = tramnetwork['lines'][line].index(stop1)\n",
    "    stop2_index = tramnetwork['lines'][line].index(stop2)\n",
    "\n",
    "\n",
    "    if stop1_index <= stop2_index:\n",
    "        stops = tramnetwork['lines'][line][ stop1_index : stop2_index+1]\n",
    "    else: \n",
    "        stops = tramnetwork['lines'][line][ stop2_index : stop1_index+1]\n",
    "    time_cost = 0\n",
    "    for current_stop,next_stop in zip(stops[:-1], stops[1:]):\n",
    "        time_cost += tramnetwork['times'][current_stop][next_stop]\n",
    "        \n",
    "    print(\"It costs {} minutes from {} to {} by line {}\".format(time_cost, stop1, stop2, line))\n",
    "\n",
    "\n",
    "\n",
    "\n",
    "def distance_between_stops(tramnetwork, stop1, stop2):\n",
    "    R = 6371.009\n",
    "    lat = [tramnetwork['stops'][stop1]['lat'] * math.pi/180, tramnetwork['stops'][stop2]['lat'] * math.pi/180] \n",
    "    lon = [tramnetwork['stops'][stop1]['lon'] * math.pi/180, tramnetwork['stops'][stop2]['lon'] * math.pi/180] \n",
    "    tmp = (lat[1]-lat[0])**2 + (math.cos((lat[1]+lat[0])/2) * (lon[1]-lon[0]))**2\n",
    "    distance = R * math.sqrt( tmp ) * 1000\n",
    "    print(\"The distance between {} and {} is {:.2f} m.\".format(stop1, stop2, distance))\n",
    "\n",
    "\n",
    "def dialogue(tramnetwork_path):\n",
    "    with open(tramnetwork_path, 'r', encoding='utf-8') as f:\n",
    "        tramnetwork = json.loads(f.read())\n",
    "    usr_input = input(\"Do you need help?\\n\")\n",
    "    if \n",
    "    \n",
    "\n",
    "    "
   ]
  },
  {
   "cell_type": "code",
   "execution_count": 127,
   "metadata": {},
   "outputs": [
    {
     "name": "stdout",
     "output_type": "stream",
     "text": [
      "The distance between Botaniska Trädgården and Opaltorget is 5074.52 m.\n"
     ]
    }
   ],
   "source": [
    "jsonobject = '../data/tramstops.json'\n",
    "lines_path = '../data/tramlines.txt'\n",
    "tramnetwork_path = '../data/tramnetwork.json'\n",
    "\n",
    "tramnetwork = build_tram_network(jsonobject, lines_path)\n",
    "\n",
    "\n",
    "stop1 = 'Botaniska Trädgården'\n",
    "stop2 = 'Opaltorget'\n",
    "line = '1'\n",
    "distance_between_stops(tramnetwork, stop1, stop2)"
   ]
  },
  {
   "cell_type": "code",
   "execution_count": 128,
   "metadata": {},
   "outputs": [],
   "source": [
    "usr_input = input(\"Do you need help?\\n\")"
   ]
  },
  {
   "cell_type": "code",
   "execution_count": 129,
   "metadata": {},
   "outputs": [
    {
     "data": {
      "text/plain": [
       "'yes'"
      ]
     },
     "execution_count": 129,
     "metadata": {},
     "output_type": "execute_result"
    }
   ],
   "source": []
  }
 ],
 "metadata": {
  "interpreter": {
   "hash": "6470ab35df35ebd4cf3de3e5abd1100c6eb5d025eaaa656817d4545e0a1f6805"
  },
  "kernelspec": {
   "display_name": "Python 3.8.12 64-bit ('lab': conda)",
   "language": "python",
   "name": "python3"
  },
  "language_info": {
   "codemirror_mode": {
    "name": "ipython",
    "version": 3
   },
   "file_extension": ".py",
   "mimetype": "text/x-python",
   "name": "python",
   "nbconvert_exporter": "python",
   "pygments_lexer": "ipython3",
   "version": "3.8.12"
  },
  "orig_nbformat": 4
 },
 "nbformat": 4,
 "nbformat_minor": 2
}
