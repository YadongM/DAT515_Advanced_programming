{
 "cells": [
  {
   "cell_type": "code",
   "execution_count": 25,
   "metadata": {},
   "outputs": [],
   "source": [
    "# -*- coding:utf-8 -*-\n",
    "\n",
    "import json\n",
    "\n",
    "\n",
    "def build_tram_stops(jsonobject):\n",
    "    with open(jsonobject, 'r', encoding='utf-8') as f:\n",
    "        temp = json.loads(f.read())\n",
    "        stop_key = list(temp.keys())\n",
    "\n",
    "        info_stop = dict()\n",
    "        for i in stop_key:\n",
    "            info_stop[i] = dict()\n",
    "            info_stop[i]['lat'] = temp[i]['position'][0]\n",
    "            info_stop[i]['lon'] = temp[i]['position'][1]\n",
    "    return info_stop\n",
    "\n",
    "\n",
    "\n",
    "def build_tram_lines(lines_path):\n",
    "    with open(lines_path, \"r\", encoding='utf-8') as f:\n",
    "        tram_number = []\n",
    "        tram_stop = []\n",
    "        tram_time = []\n",
    "        for i in f:\n",
    "            if len(i)==3 or len(i) ==4:\n",
    "                tram_number.append(i[:-2])\n",
    "                tmp = []\n",
    "                tram_stop.append(tmp)\n",
    "\n",
    "                time_tmp = []\n",
    "                tram_time.append(time_tmp)\n",
    "\n",
    "            if len(i)>6:\n",
    "                tmp.append(i[:-6].replace(\" \", \"\"))\n",
    "                \n",
    "                time_tmp.append(    list(map(int, (i[-6:].replace(\"\\n\", \"\")).split(':')))      )\n",
    "\n",
    "        \n",
    "    tram_lines = dict(zip(tram_number, tram_stop))\n",
    "    tram_time = dict(zip(tram_number, tram_time))\n",
    "\n",
    "    # The second part\n",
    "    info_stop = build_tram_stops(jsonobject)\n",
    "\n",
    "    all_stop = list( set( [j for i in tram_lines.keys() for j in tram_lines[i]] ) )\n",
    "    all_stop = dict(zip(all_stop, [i for i in range(len(all_stop))]))\n",
    "\n",
    "\n",
    "    stop_time = dict()\n",
    "    for i in tram_lines.keys():\n",
    "        for j in range(len(tram_lines[i])):\n",
    "            if j <= (len(tram_lines[i])-2):\n",
    "                tmp = dict()\n",
    "                tmp[tram_lines[i][j+1]] = (tram_time[i][j+1][0] - tram_time[i][j][0])*60 + (tram_time[i][j+1][1] - tram_time[i][j][1])\n",
    "                stop_time[tram_lines[i][j]] = tmp\n",
    "            \n",
    "            if j <= (len(tram_lines[i])-2):\n",
    "                j = j+1\n",
    "                tmp = dict()\n",
    "                tmp[tram_lines[i][-j-1]] = (tram_time[i][-j][0] - tram_time[i][-j-1][0])*60 + (tram_time[i][-j][1] - tram_time[i][-j-1][1])\n",
    "                stop_time[tram_lines[i][-j]] = tmp\n",
    "    \n",
    "    return tram_lines,stop_time\n",
    "\n",
    "def build_tram_network(jsonobject, lines_path):\n",
    "    info_stop = build_tram_stops(jsonobject)\n",
    "    tram_lines,stop_time  = build_tram_lines(lines_path)\n",
    "    tramnetwork = {'stops':info_stop, 'lines':tram_lines, 'times':stop_time}\n",
    "    return tramnetwork"
   ]
  },
  {
   "cell_type": "code",
   "execution_count": 28,
   "metadata": {},
   "outputs": [],
   "source": [
    "jsonobject = '../data/tramstops.json'\n",
    "lines_path = '../data/tramlines.txt'\n",
    "test_dict = build_tram_network(jsonobject, lines_path)"
   ]
  }
 ],
 "metadata": {
  "interpreter": {
   "hash": "6470ab35df35ebd4cf3de3e5abd1100c6eb5d025eaaa656817d4545e0a1f6805"
  },
  "kernelspec": {
   "display_name": "Python 3.8.12 64-bit ('lab': conda)",
   "language": "python",
   "name": "python3"
  },
  "language_info": {
   "codemirror_mode": {
    "name": "ipython",
    "version": 3
   },
   "file_extension": ".py",
   "mimetype": "text/x-python",
   "name": "python",
   "nbconvert_exporter": "python",
   "pygments_lexer": "ipython3",
   "version": "3.8.12"
  },
  "orig_nbformat": 4
 },
 "nbformat": 4,
 "nbformat_minor": 2
}
